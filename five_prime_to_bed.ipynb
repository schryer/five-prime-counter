{
 "metadata": {
  "name": "",
  "signature": "sha256:2ac40940fe2c53d5c2329b51d836d296f5b1aba6dda5b7c5ae79c83c1deaf96e"
 },
 "nbformat": 3,
 "nbformat_minor": 0,
 "worksheets": [
  {
   "cells": [
    {
     "cell_type": "code",
     "collapsed": false,
     "input": [
      "import pybedtools\n",
      "\n",
      "path = raw_input(\"Enter the BED file path \") #Importing the BED file into python.\n",
      "myBED = pybedtools.BedTool(path) \n",
      "\n",
      "\n",
      "for read in myBED:\n",
      "    if read.strand == \"+\":\n",
      "        read.stop = read.start + 1\n",
      "    elif read.strand == \"-\":\n",
      "        read.start = read.stop - 1\n",
      "        \n",
      "# Now we save the results to a new bed file.\n",
      "#First you must give a name to your output file. Do not forget to add .bed at the end!\n",
      "output_name = raw_input(\"Enter the name for your output file \")\n",
      "#trackline =  rawinput(\"Enter the name for your bed files trackline \")\n",
      "myBED.saveas(output_name)\n"
     ],
     "language": "python",
     "metadata": {},
     "outputs": [
      {
       "name": "stdout",
       "output_type": "stream",
       "stream": "stdout",
       "text": [
        "Enter the BED file path /media/toomas/DATA1/BED_test/BED_test.bed\n"
       ]
      },
      {
       "name": "stdout",
       "output_type": "stream",
       "stream": "stdout",
       "text": [
        "Enter the name for your output file test.bed\n"
       ]
      },
      {
       "metadata": {},
       "output_type": "pyout",
       "prompt_number": 6,
       "text": [
        "<BedTool(test.bed)>"
       ]
      }
     ],
     "prompt_number": 6
    },
    {
     "cell_type": "code",
     "collapsed": false,
     "input": [],
     "language": "python",
     "metadata": {},
     "outputs": [
      {
       "metadata": {},
       "output_type": "pyout",
       "prompt_number": 3,
       "text": [
        "pybedtools.bedtool.BedTool"
       ]
      }
     ],
     "prompt_number": 3
    },
    {
     "cell_type": "code",
     "collapsed": false,
     "input": [],
     "language": "python",
     "metadata": {},
     "outputs": []
    }
   ],
   "metadata": {}
  }
 ]
}