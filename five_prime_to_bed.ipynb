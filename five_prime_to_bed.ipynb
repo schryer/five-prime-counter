{
 "metadata": {
  "name": "",
  "signature": "sha256:459b9f620f0852560e35b7b2fcade50f4ddecd6eb5fa04be1373d6655a2784d5"
 },
 "nbformat": 3,
 "nbformat_minor": 0,
 "worksheets": [
  {
   "cells": [
    {
     "cell_type": "code",
     "collapsed": false,
     "input": [
      "import pybedtools\n",
      "\n",
      "path = raw_input(\"Enter the BED file path \") #Importing the BED file into python.\n",
      "myBED = pybedtools.BedTool(path) \n",
      "\n",
      "output_name = raw_input(\"Enter the name for your output file \")\n",
      "output = open(output_name, \"w\")\n",
      "\n",
      "for read in myBED:\n",
      "    if read.strand == \"+\":\n",
      "        read.stop = read.start + 1\n",
      "    elif read.strand == \"-\":\n",
      "        read.start = read.stop - 1\n",
      "    output.write(str(read))\n",
      "    \n",
      "output.close()\n",
      "# Now we save the results to a new bed file.\n",
      "#First you must give a name to your output file. Do not forget to add .bed at the end!\n",
      "\n",
      "#trackline =  rawinput(\"Enter the name for your bed files trackline \")\n",
      "\n"
     ],
     "language": "python",
     "metadata": {},
     "outputs": [
      {
       "name": "stdout",
       "output_type": "stream",
       "stream": "stdout",
       "text": [
        "Enter the BED file path /media/toomas/DATA1/BED_test/BED_test.bed\n"
       ]
      },
      {
       "name": "stdout",
       "output_type": "stream",
       "stream": "stdout",
       "text": [
        "Enter the name for your output file test.bed\n"
       ]
      }
     ],
     "prompt_number": 7
    },
    {
     "cell_type": "code",
     "collapsed": false,
     "input": [],
     "language": "python",
     "metadata": {},
     "outputs": [
      {
       "metadata": {},
       "output_type": "pyout",
       "prompt_number": 3,
       "text": [
        "pybedtools.bedtool.BedTool"
       ]
      }
     ],
     "prompt_number": 3
    },
    {
     "cell_type": "code",
     "collapsed": false,
     "input": [],
     "language": "python",
     "metadata": {},
     "outputs": []
    }
   ],
   "metadata": {}
  }
 ]
}