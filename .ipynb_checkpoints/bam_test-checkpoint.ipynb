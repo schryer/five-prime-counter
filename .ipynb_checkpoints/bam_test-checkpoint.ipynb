{
 "metadata": {
  "name": "",
  "signature": "sha256:dc4e3450174e98670b27f36b7e630d0587c56e3ba3aea7ea13650b03870bf2ac"
 },
 "nbformat": 3,
 "nbformat_minor": 0,
 "worksheets": [
  {
   "cells": [
    {
     "cell_type": "code",
     "collapsed": false,
     "input": [
      "import pysam\n",
      "import pysamstats\n",
      "import matplotlib.pyplot as plt\n",
      "\n",
      "mybam = pysam.Samfile('data/MqsR2h_cutting/MqsR2h_PNK_sorted.bam')\n",
      "print(mybam)"
     ],
     "language": "python",
     "metadata": {},
     "outputs": [],
     "prompt_number": 3
    },
    {
     "cell_type": "code",
     "collapsed": false,
     "input": [
      "a = pysamstats.load_coverage(mybam, chrom='Pf3D7_01_v3', start=10000, end=20000)\n",
      "plt.plot(a.pos, a.reads_all)\n",
      "plt.show()"
     ],
     "language": "python",
     "metadata": {},
     "outputs": []
    }
   ],
   "metadata": {}
  }
 ]
}